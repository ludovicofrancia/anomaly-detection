{
 "cells": [
  {
   "cell_type": "code",
   "execution_count": 1,
   "metadata": {},
   "outputs": [
    {
     "name": "stdout",
     "output_type": "stream",
     "text": [
      "Anomalies detected: 33\n",
      "Events without detected anomalies: 50\n",
      "\n",
      " \n",
      "Alerting on Property-Platform-event_name: \n",
      "\n",
      ">E-Commerce_A\n",
      "- Android > add_to_cart | WoW: -35460.0 (-16%)\n",
      "- Android > contact | WoW: -12780.0 (-7%)\n",
      "- Android > purchase | WoW: -980.0 (-12%)\n",
      "- Android > view_item | WoW: -1760.0 (-10%)\n",
      "- Android > view_item_list | WoW: -920.0 (-7%)\n",
      "- iOS > add_to_cart | WoW: -180580.0 (-9%)\n",
      "- iOS > contact | WoW: -241720.0 (-9%)\n",
      "- iOS > purchase | WoW: -7240.0 (-14%)\n",
      "- iOS > view_item | WoW: -4500.0 (-19%)\n",
      "- iOS > view_item_list | WoW: -7760.0 (-13%)\n",
      "- web > add_to_cart | WoW: -52760.0 (-23%)\n",
      "- web > contact | WoW: -35520.0 (-14%)\n",
      "- web > purchase | WoW: -840.0 (-13%)\n",
      "- web > view_item | WoW: -3820.0 (-18%)\n",
      "- web > view_item_list | WoW: -1720.0 (-13%)\n",
      "\n",
      ">E-Commerce_B\n",
      "- iOS > add_to_cart | WoW: 3930980.0 (36%)\n",
      "\n",
      ">E-Commerce_C\n",
      "- web > add_to_cart | WoW: -267554.0 (-10%)\n",
      "- web > contact | WoW: -256398.0 (-11%)\n",
      "- web > purchase | WoW: -6217.0 (-11%)\n",
      "- web > view_item_list | WoW: -6050.0 (-11%)\n",
      "\n",
      ">E-Commerce_D\n",
      "- Android > add_to_cart | WoW: -51060.0 (-11%)\n",
      "- Android > contact | WoW: -77840.0 (-13%)\n",
      "- Android > purchase | WoW: -600.0 (-25%)\n",
      "- Android > view_item | WoW: -29380.0 (-38%)\n",
      "- Android > view_item_list | WoW: -1480.0 (-39%)\n",
      "- iOS > purchase | WoW: -21500.0 (-47%)\n",
      "- iOS > view_item | WoW: -3980.0 (-11%)\n",
      "- iOS > view_item_list | WoW: -22060.0 (-43%)\n",
      "- web > add_to_cart | WoW: -71640.0 (-13%)\n",
      "- web > contact | WoW: -173780.0 (-13%)\n",
      "- web > purchase | WoW: -1300.0 (-43%)\n",
      "- web > view_item | WoW: 9380.0 (12%)\n",
      "- web > view_item_list | WoW: -1260.0 (-32%)\n",
      "\n",
      " \n",
      "\n"
     ]
    }
   ],
   "source": [
    "from main import main\n",
    "\n",
    "# Run the anomaly detection pipeline for a specific date and data source.\n",
    "main(date_to_check= \"2024-04-10\", \n",
    "     event_data_path= \"api_ga4_event_data.csv\",\n",
    "     thresholds_gsheet_link= \"https://docs.google.com/spreadsheets/d/13ad1oh3NpIt36cEcv__x0m0mIvT2_RQf69linO1sg9I/export?format=csv\")"
   ]
  },
  {
   "cell_type": "code",
   "execution_count": null,
   "metadata": {},
   "outputs": [],
   "source": []
  }
 ],
 "metadata": {
  "kernelspec": {
   "display_name": ".venv",
   "language": "python",
   "name": "python3"
  },
  "language_info": {
   "codemirror_mode": {
    "name": "ipython",
    "version": 3
   },
   "file_extension": ".py",
   "mimetype": "text/x-python",
   "name": "python",
   "nbconvert_exporter": "python",
   "pygments_lexer": "ipython3",
   "version": "3.13.1"
  }
 },
 "nbformat": 4,
 "nbformat_minor": 2
}
